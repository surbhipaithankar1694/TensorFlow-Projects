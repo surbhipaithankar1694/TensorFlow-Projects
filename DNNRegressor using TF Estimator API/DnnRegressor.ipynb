{
 "cells": [
  {
   "cell_type": "markdown",
   "metadata": {},
   "source": [
    "# Dense Neural Network Regression  \n",
    "\n",
    "California Housing Data\n",
    "\n",
    "This data set contains information about all the block groups in California from the 1990 Census. In this sample a block group on average includes 1425.5 individuals living in a geographically compact area. \n",
    "\n",
    "The task is to approximate the median house value of each block from the values of the rest of the variables. \n",
    "\n",
    " It has been obtained from the LIACC repository. The original page where the data set can be found is: http://www.liaad.up.pt/~ltorgo/Regression/DataSets.html.\n",
    " "
   ]
  },
  {
   "cell_type": "markdown",
   "metadata": {
    "collapsed": true
   },
   "source": [
    "The Features:\n",
    " \n",
    "* housingMedianAge: continuous. \n",
    "* totalRooms: continuous. \n",
    "* totalBedrooms: continuous. \n",
    "* population: continuous. \n",
    "* households: continuous. \n",
    "* medianIncome: continuous. \n",
    "* medianHouseValue: continuous. "
   ]
  },
  {
   "cell_type": "markdown",
   "metadata": {},
   "source": [
    "## The Data"
   ]
  },
  {
   "cell_type": "markdown",
   "metadata": {},
   "source": [
    "** Import the cal_housing_clean.csv file with pandas. Separate it into a training (70%) and testing set(30%).**"
   ]
  },
  {
   "cell_type": "code",
   "execution_count": 84,
   "metadata": {
    "collapsed": true
   },
   "outputs": [],
   "source": [
    "import pandas as pd"
   ]
  },
  {
   "cell_type": "code",
   "execution_count": 85,
   "metadata": {},
   "outputs": [],
   "source": [
    "housedata = pd.read_csv('cal_housing_clean.csv')"
   ]
  },
  {
   "cell_type": "code",
   "execution_count": 86,
   "metadata": {},
   "outputs": [
    {
     "data": {
      "text/html": [
       "<div>\n",
       "<style>\n",
       "    .dataframe thead tr:only-child th {\n",
       "        text-align: right;\n",
       "    }\n",
       "\n",
       "    .dataframe thead th {\n",
       "        text-align: left;\n",
       "    }\n",
       "\n",
       "    .dataframe tbody tr th {\n",
       "        vertical-align: top;\n",
       "    }\n",
       "</style>\n",
       "<table border=\"1\" class=\"dataframe\">\n",
       "  <thead>\n",
       "    <tr style=\"text-align: right;\">\n",
       "      <th></th>\n",
       "      <th>housingMedianAge</th>\n",
       "      <th>totalRooms</th>\n",
       "      <th>totalBedrooms</th>\n",
       "      <th>population</th>\n",
       "      <th>households</th>\n",
       "      <th>medianIncome</th>\n",
       "      <th>medianHouseValue</th>\n",
       "    </tr>\n",
       "  </thead>\n",
       "  <tbody>\n",
       "    <tr>\n",
       "      <th>count</th>\n",
       "      <td>20640.000000</td>\n",
       "      <td>20640.000000</td>\n",
       "      <td>20640.000000</td>\n",
       "      <td>20640.000000</td>\n",
       "      <td>20640.000000</td>\n",
       "      <td>20640.000000</td>\n",
       "      <td>20640.000000</td>\n",
       "    </tr>\n",
       "    <tr>\n",
       "      <th>mean</th>\n",
       "      <td>28.639486</td>\n",
       "      <td>2635.763081</td>\n",
       "      <td>537.898014</td>\n",
       "      <td>1425.476744</td>\n",
       "      <td>499.539680</td>\n",
       "      <td>3.870671</td>\n",
       "      <td>206855.816909</td>\n",
       "    </tr>\n",
       "    <tr>\n",
       "      <th>std</th>\n",
       "      <td>12.585558</td>\n",
       "      <td>2181.615252</td>\n",
       "      <td>421.247906</td>\n",
       "      <td>1132.462122</td>\n",
       "      <td>382.329753</td>\n",
       "      <td>1.899822</td>\n",
       "      <td>115395.615874</td>\n",
       "    </tr>\n",
       "    <tr>\n",
       "      <th>min</th>\n",
       "      <td>1.000000</td>\n",
       "      <td>2.000000</td>\n",
       "      <td>1.000000</td>\n",
       "      <td>3.000000</td>\n",
       "      <td>1.000000</td>\n",
       "      <td>0.499900</td>\n",
       "      <td>14999.000000</td>\n",
       "    </tr>\n",
       "    <tr>\n",
       "      <th>25%</th>\n",
       "      <td>18.000000</td>\n",
       "      <td>1447.750000</td>\n",
       "      <td>295.000000</td>\n",
       "      <td>787.000000</td>\n",
       "      <td>280.000000</td>\n",
       "      <td>2.563400</td>\n",
       "      <td>119600.000000</td>\n",
       "    </tr>\n",
       "    <tr>\n",
       "      <th>50%</th>\n",
       "      <td>29.000000</td>\n",
       "      <td>2127.000000</td>\n",
       "      <td>435.000000</td>\n",
       "      <td>1166.000000</td>\n",
       "      <td>409.000000</td>\n",
       "      <td>3.534800</td>\n",
       "      <td>179700.000000</td>\n",
       "    </tr>\n",
       "    <tr>\n",
       "      <th>75%</th>\n",
       "      <td>37.000000</td>\n",
       "      <td>3148.000000</td>\n",
       "      <td>647.000000</td>\n",
       "      <td>1725.000000</td>\n",
       "      <td>605.000000</td>\n",
       "      <td>4.743250</td>\n",
       "      <td>264725.000000</td>\n",
       "    </tr>\n",
       "    <tr>\n",
       "      <th>max</th>\n",
       "      <td>52.000000</td>\n",
       "      <td>39320.000000</td>\n",
       "      <td>6445.000000</td>\n",
       "      <td>35682.000000</td>\n",
       "      <td>6082.000000</td>\n",
       "      <td>15.000100</td>\n",
       "      <td>500001.000000</td>\n",
       "    </tr>\n",
       "  </tbody>\n",
       "</table>\n",
       "</div>"
      ],
      "text/plain": [
       "       housingMedianAge    totalRooms  totalBedrooms    population  \\\n",
       "count      20640.000000  20640.000000   20640.000000  20640.000000   \n",
       "mean          28.639486   2635.763081     537.898014   1425.476744   \n",
       "std           12.585558   2181.615252     421.247906   1132.462122   \n",
       "min            1.000000      2.000000       1.000000      3.000000   \n",
       "25%           18.000000   1447.750000     295.000000    787.000000   \n",
       "50%           29.000000   2127.000000     435.000000   1166.000000   \n",
       "75%           37.000000   3148.000000     647.000000   1725.000000   \n",
       "max           52.000000  39320.000000    6445.000000  35682.000000   \n",
       "\n",
       "         households  medianIncome  medianHouseValue  \n",
       "count  20640.000000  20640.000000      20640.000000  \n",
       "mean     499.539680      3.870671     206855.816909  \n",
       "std      382.329753      1.899822     115395.615874  \n",
       "min        1.000000      0.499900      14999.000000  \n",
       "25%      280.000000      2.563400     119600.000000  \n",
       "50%      409.000000      3.534800     179700.000000  \n",
       "75%      605.000000      4.743250     264725.000000  \n",
       "max     6082.000000     15.000100     500001.000000  "
      ]
     },
     "execution_count": 86,
     "metadata": {},
     "output_type": "execute_result"
    }
   ],
   "source": [
    "housedata.describe()"
   ]
  },
  {
   "cell_type": "code",
   "execution_count": 87,
   "metadata": {},
   "outputs": [
    {
     "data": {
      "text/html": [
       "<div>\n",
       "<style>\n",
       "    .dataframe thead tr:only-child th {\n",
       "        text-align: right;\n",
       "    }\n",
       "\n",
       "    .dataframe thead th {\n",
       "        text-align: left;\n",
       "    }\n",
       "\n",
       "    .dataframe tbody tr th {\n",
       "        vertical-align: top;\n",
       "    }\n",
       "</style>\n",
       "<table border=\"1\" class=\"dataframe\">\n",
       "  <thead>\n",
       "    <tr style=\"text-align: right;\">\n",
       "      <th></th>\n",
       "      <th>housingMedianAge</th>\n",
       "      <th>totalRooms</th>\n",
       "      <th>totalBedrooms</th>\n",
       "      <th>population</th>\n",
       "      <th>households</th>\n",
       "      <th>medianIncome</th>\n",
       "      <th>medianHouseValue</th>\n",
       "    </tr>\n",
       "  </thead>\n",
       "  <tbody>\n",
       "    <tr>\n",
       "      <th>0</th>\n",
       "      <td>41.0</td>\n",
       "      <td>880.0</td>\n",
       "      <td>129.0</td>\n",
       "      <td>322.0</td>\n",
       "      <td>126.0</td>\n",
       "      <td>8.3252</td>\n",
       "      <td>452600.0</td>\n",
       "    </tr>\n",
       "    <tr>\n",
       "      <th>1</th>\n",
       "      <td>21.0</td>\n",
       "      <td>7099.0</td>\n",
       "      <td>1106.0</td>\n",
       "      <td>2401.0</td>\n",
       "      <td>1138.0</td>\n",
       "      <td>8.3014</td>\n",
       "      <td>358500.0</td>\n",
       "    </tr>\n",
       "    <tr>\n",
       "      <th>2</th>\n",
       "      <td>52.0</td>\n",
       "      <td>1467.0</td>\n",
       "      <td>190.0</td>\n",
       "      <td>496.0</td>\n",
       "      <td>177.0</td>\n",
       "      <td>7.2574</td>\n",
       "      <td>352100.0</td>\n",
       "    </tr>\n",
       "    <tr>\n",
       "      <th>3</th>\n",
       "      <td>52.0</td>\n",
       "      <td>1274.0</td>\n",
       "      <td>235.0</td>\n",
       "      <td>558.0</td>\n",
       "      <td>219.0</td>\n",
       "      <td>5.6431</td>\n",
       "      <td>341300.0</td>\n",
       "    </tr>\n",
       "    <tr>\n",
       "      <th>4</th>\n",
       "      <td>52.0</td>\n",
       "      <td>1627.0</td>\n",
       "      <td>280.0</td>\n",
       "      <td>565.0</td>\n",
       "      <td>259.0</td>\n",
       "      <td>3.8462</td>\n",
       "      <td>342200.0</td>\n",
       "    </tr>\n",
       "  </tbody>\n",
       "</table>\n",
       "</div>"
      ],
      "text/plain": [
       "   housingMedianAge  totalRooms  totalBedrooms  population  households  \\\n",
       "0              41.0       880.0          129.0       322.0       126.0   \n",
       "1              21.0      7099.0         1106.0      2401.0      1138.0   \n",
       "2              52.0      1467.0          190.0       496.0       177.0   \n",
       "3              52.0      1274.0          235.0       558.0       219.0   \n",
       "4              52.0      1627.0          280.0       565.0       259.0   \n",
       "\n",
       "   medianIncome  medianHouseValue  \n",
       "0        8.3252          452600.0  \n",
       "1        8.3014          358500.0  \n",
       "2        7.2574          352100.0  \n",
       "3        5.6431          341300.0  \n",
       "4        3.8462          342200.0  "
      ]
     },
     "execution_count": 87,
     "metadata": {},
     "output_type": "execute_result"
    }
   ],
   "source": [
    "housedata.head()"
   ]
  },
  {
   "cell_type": "code",
   "execution_count": 88,
   "metadata": {
    "collapsed": true,
    "scrolled": true
   },
   "outputs": [],
   "source": [
    "from sklearn.model_selection import train_test_split"
   ]
  },
  {
   "cell_type": "code",
   "execution_count": 89,
   "metadata": {
    "collapsed": true
   },
   "outputs": [],
   "source": [
    "X = housedata.drop('medianHouseValue',axis = 1)\n",
    "y = housedata['medianHouseValue']\n"
   ]
  },
  {
   "cell_type": "code",
   "execution_count": 90,
   "metadata": {
    "collapsed": true
   },
   "outputs": [],
   "source": [
    "X_train, X_test, y_train, y_test = train_test_split(X, y, test_size=0.30, random_state=101)"
   ]
  },
  {
   "cell_type": "code",
   "execution_count": null,
   "metadata": {
    "collapsed": true
   },
   "outputs": [],
   "source": []
  },
  {
   "cell_type": "markdown",
   "metadata": {},
   "source": [
    "### Scale the Feature Data\n",
    "\n",
    "** Use sklearn preprocessing to create a MinMaxScaler for the feature data. Fit this scaler only to the training data. Then use it to transform X_test and X_train. Then use the scaled X_test and X_train along with pd.Dataframe to re-create two dataframes of scaled data.**"
   ]
  },
  {
   "cell_type": "code",
   "execution_count": 91,
   "metadata": {
    "collapsed": true
   },
   "outputs": [],
   "source": [
    "from sklearn.preprocessing import MinMaxScaler"
   ]
  },
  {
   "cell_type": "code",
   "execution_count": 92,
   "metadata": {
    "collapsed": true
   },
   "outputs": [],
   "source": [
    "scaler = MinMaxScaler()"
   ]
  },
  {
   "cell_type": "code",
   "execution_count": 93,
   "metadata": {},
   "outputs": [
    {
     "data": {
      "text/plain": [
       "MinMaxScaler(copy=True, feature_range=(0, 1))"
      ]
     },
     "execution_count": 93,
     "metadata": {},
     "output_type": "execute_result"
    }
   ],
   "source": [
    "scaler.fit(X_train)"
   ]
  },
  {
   "cell_type": "code",
   "execution_count": 94,
   "metadata": {},
   "outputs": [],
   "source": [
    "X_train = pd.DataFrame(data = scaler.transform(X_train),columns=X_train.columns,index=X_train.index)"
   ]
  },
  {
   "cell_type": "code",
   "execution_count": 95,
   "metadata": {
    "collapsed": true
   },
   "outputs": [],
   "source": [
    "X_test = pd.DataFrame(scaler.transform(X_test),columns=X_test.columns,index=X_test.index)"
   ]
  },
  {
   "cell_type": "code",
   "execution_count": 96,
   "metadata": {},
   "outputs": [
    {
     "data": {
      "text/html": [
       "<div>\n",
       "<style>\n",
       "    .dataframe thead tr:only-child th {\n",
       "        text-align: right;\n",
       "    }\n",
       "\n",
       "    .dataframe thead th {\n",
       "        text-align: left;\n",
       "    }\n",
       "\n",
       "    .dataframe tbody tr th {\n",
       "        vertical-align: top;\n",
       "    }\n",
       "</style>\n",
       "<table border=\"1\" class=\"dataframe\">\n",
       "  <thead>\n",
       "    <tr style=\"text-align: right;\">\n",
       "      <th></th>\n",
       "      <th>housingMedianAge</th>\n",
       "      <th>totalRooms</th>\n",
       "      <th>totalBedrooms</th>\n",
       "      <th>population</th>\n",
       "      <th>households</th>\n",
       "      <th>medianIncome</th>\n",
       "    </tr>\n",
       "  </thead>\n",
       "  <tbody>\n",
       "    <tr>\n",
       "      <th>16086</th>\n",
       "      <td>0.686275</td>\n",
       "      <td>0.046264</td>\n",
       "      <td>0.045158</td>\n",
       "      <td>0.025873</td>\n",
       "      <td>0.048841</td>\n",
       "      <td>0.353133</td>\n",
       "    </tr>\n",
       "    <tr>\n",
       "      <th>8816</th>\n",
       "      <td>0.705882</td>\n",
       "      <td>0.027417</td>\n",
       "      <td>0.020795</td>\n",
       "      <td>0.012709</td>\n",
       "      <td>0.023187</td>\n",
       "      <td>0.770182</td>\n",
       "    </tr>\n",
       "    <tr>\n",
       "      <th>7175</th>\n",
       "      <td>0.901961</td>\n",
       "      <td>0.032326</td>\n",
       "      <td>0.040813</td>\n",
       "      <td>0.041662</td>\n",
       "      <td>0.042592</td>\n",
       "      <td>0.133626</td>\n",
       "    </tr>\n",
       "    <tr>\n",
       "      <th>16714</th>\n",
       "      <td>0.313725</td>\n",
       "      <td>0.043212</td>\n",
       "      <td>0.046089</td>\n",
       "      <td>0.032840</td>\n",
       "      <td>0.048018</td>\n",
       "      <td>0.263576</td>\n",
       "    </tr>\n",
       "    <tr>\n",
       "      <th>14491</th>\n",
       "      <td>0.411765</td>\n",
       "      <td>0.088433</td>\n",
       "      <td>0.069367</td>\n",
       "      <td>0.043728</td>\n",
       "      <td>0.072192</td>\n",
       "      <td>0.660046</td>\n",
       "    </tr>\n",
       "  </tbody>\n",
       "</table>\n",
       "</div>"
      ],
      "text/plain": [
       "       housingMedianAge  totalRooms  totalBedrooms  population  households  \\\n",
       "16086          0.686275    0.046264       0.045158    0.025873    0.048841   \n",
       "8816           0.705882    0.027417       0.020795    0.012709    0.023187   \n",
       "7175           0.901961    0.032326       0.040813    0.041662    0.042592   \n",
       "16714          0.313725    0.043212       0.046089    0.032840    0.048018   \n",
       "14491          0.411765    0.088433       0.069367    0.043728    0.072192   \n",
       "\n",
       "       medianIncome  \n",
       "16086      0.353133  \n",
       "8816       0.770182  \n",
       "7175       0.133626  \n",
       "16714      0.263576  \n",
       "14491      0.660046  "
      ]
     },
     "execution_count": 96,
     "metadata": {},
     "output_type": "execute_result"
    }
   ],
   "source": [
    "X_test.head()"
   ]
  },
  {
   "cell_type": "markdown",
   "metadata": {},
   "source": [
    "### Create Feature Columns\n",
    "\n",
    "** Create the necessary tf.feature_column objects for the estimator. They should all be trated as continuous numeric_columns. **"
   ]
  },
  {
   "cell_type": "code",
   "execution_count": 97,
   "metadata": {
    "collapsed": true
   },
   "outputs": [],
   "source": [
    "import tensorflow as tf"
   ]
  },
  {
   "cell_type": "code",
   "execution_count": 98,
   "metadata": {},
   "outputs": [
    {
     "data": {
      "text/plain": [
       "Index(['housingMedianAge', 'totalRooms', 'totalBedrooms', 'population',\n",
       "       'households', 'medianIncome'],\n",
       "      dtype='object')"
      ]
     },
     "execution_count": 98,
     "metadata": {},
     "output_type": "execute_result"
    }
   ],
   "source": [
    "X_train.columns"
   ]
  },
  {
   "cell_type": "code",
   "execution_count": 99,
   "metadata": {},
   "outputs": [],
   "source": [
    "housingMedianAge = tf.feature_column.numeric_column('housingMedianAge') \n",
    "totalRooms = tf.feature_column.numeric_column('totalRooms') \n",
    "totalBedrooms = tf.feature_column.numeric_column('totalBedrooms') \n",
    "population = tf.feature_column.numeric_column('population') \n",
    "households = tf.feature_column.numeric_column('households') \n",
    "medianIncome = tf.feature_column.numeric_column('medianIncome') "
   ]
  },
  {
   "cell_type": "code",
   "execution_count": 100,
   "metadata": {
    "collapsed": true
   },
   "outputs": [],
   "source": [
    "feat_cols = [housingMedianAge, totalRooms, totalBedrooms, population,\n",
    "       households, medianIncome]"
   ]
  },
  {
   "cell_type": "markdown",
   "metadata": {},
   "source": [
    "** Create the input function for the estimator object.**"
   ]
  },
  {
   "cell_type": "code",
   "execution_count": 101,
   "metadata": {},
   "outputs": [],
   "source": [
    "input_func = tf.estimator.inputs.pandas_input_fn(X_train,y_train,batch_size= 10,num_epochs = 1000,shuffle=True)"
   ]
  },
  {
   "cell_type": "markdown",
   "metadata": {},
   "source": [
    "** Create the estimator model. Use a DNNRegressor. Play around with the hidden units! **"
   ]
  },
  {
   "cell_type": "code",
   "execution_count": 102,
   "metadata": {},
   "outputs": [
    {
     "name": "stdout",
     "output_type": "stream",
     "text": [
      "INFO:tensorflow:Using default config.\n",
      "WARNING:tensorflow:Using temporary folder as model directory: C:\\Users\\Surbhi\\AppData\\Local\\Temp\\tmpca_tpb35\n",
      "INFO:tensorflow:Using config: {'_session_config': None, '_keep_checkpoint_max': 5, '_keep_checkpoint_every_n_hours': 10000, '_save_summary_steps': 100, '_model_dir': 'C:\\\\Users\\\\Surbhi\\\\AppData\\\\Local\\\\Temp\\\\tmpca_tpb35', '_save_checkpoints_secs': 600, '_log_step_count_steps': 100, '_tf_random_seed': 1, '_save_checkpoints_steps': None}\n"
     ]
    }
   ],
   "source": [
    "model = tf.estimator.DNNRegressor([6,6,6],feature_columns=feat_cols)"
   ]
  },
  {
   "cell_type": "markdown",
   "metadata": {},
   "source": [
    "##### ** Train the model for ~1,000 steps."
   ]
  },
  {
   "cell_type": "code",
   "execution_count": 120,
   "metadata": {},
   "outputs": [
    {
     "name": "stdout",
     "output_type": "stream",
     "text": [
      "INFO:tensorflow:Create CheckpointSaverHook.\n",
      "INFO:tensorflow:Restoring parameters from C:\\Users\\Surbhi\\AppData\\Local\\Temp\\tmpca_tpb35\\model.ckpt-1000\n",
      "INFO:tensorflow:Saving checkpoints for 1001 into C:\\Users\\Surbhi\\AppData\\Local\\Temp\\tmpca_tpb35\\model.ckpt.\n",
      "INFO:tensorflow:step = 1001, loss = 2.02382e+11\n",
      "INFO:tensorflow:global_step/sec: 366.546\n",
      "INFO:tensorflow:step = 1101, loss = 3.24825e+11 (0.280 sec)\n",
      "INFO:tensorflow:global_step/sec: 417.421\n",
      "INFO:tensorflow:step = 1201, loss = 1.92516e+11 (0.237 sec)\n",
      "INFO:tensorflow:global_step/sec: 405.943\n",
      "INFO:tensorflow:step = 1301, loss = 5.48933e+11 (0.246 sec)\n",
      "INFO:tensorflow:global_step/sec: 394.687\n",
      "INFO:tensorflow:step = 1401, loss = 7.89179e+10 (0.254 sec)\n",
      "INFO:tensorflow:global_step/sec: 412.709\n",
      "INFO:tensorflow:step = 1501, loss = 2.15461e+11 (0.241 sec)\n",
      "INFO:tensorflow:global_step/sec: 447.1\n",
      "INFO:tensorflow:step = 1601, loss = 2.02085e+11 (0.228 sec)\n",
      "INFO:tensorflow:global_step/sec: 315.47\n",
      "INFO:tensorflow:step = 1701, loss = 6.19053e+10 (0.320 sec)\n",
      "INFO:tensorflow:global_step/sec: 353.643\n",
      "INFO:tensorflow:step = 1801, loss = 3.3015e+10 (0.275 sec)\n",
      "INFO:tensorflow:global_step/sec: 482.574\n",
      "INFO:tensorflow:step = 1901, loss = 1.39032e+11 (0.213 sec)\n",
      "INFO:tensorflow:global_step/sec: 427.492\n",
      "INFO:tensorflow:step = 2001, loss = 1.23031e+11 (0.234 sec)\n",
      "INFO:tensorflow:global_step/sec: 337.458\n",
      "INFO:tensorflow:step = 2101, loss = 1.29538e+11 (0.294 sec)\n",
      "INFO:tensorflow:global_step/sec: 383.8\n",
      "INFO:tensorflow:step = 2201, loss = 1.66297e+11 (0.261 sec)\n",
      "INFO:tensorflow:global_step/sec: 438.9\n",
      "INFO:tensorflow:step = 2301, loss = 1.30577e+11 (0.228 sec)\n",
      "INFO:tensorflow:global_step/sec: 414.466\n",
      "INFO:tensorflow:step = 2401, loss = 1.14776e+11 (0.238 sec)\n",
      "INFO:tensorflow:global_step/sec: 486.535\n",
      "INFO:tensorflow:step = 2501, loss = 1.06515e+11 (0.210 sec)\n",
      "INFO:tensorflow:global_step/sec: 401.881\n",
      "INFO:tensorflow:step = 2601, loss = 7.00448e+10 (0.244 sec)\n",
      "INFO:tensorflow:global_step/sec: 448.711\n",
      "INFO:tensorflow:step = 2701, loss = 1.30045e+11 (0.223 sec)\n",
      "INFO:tensorflow:global_step/sec: 409.95\n",
      "INFO:tensorflow:step = 2801, loss = 1.17266e+11 (0.248 sec)\n",
      "INFO:tensorflow:global_step/sec: 436.269\n",
      "INFO:tensorflow:step = 2901, loss = 1.56711e+11 (0.225 sec)\n",
      "INFO:tensorflow:global_step/sec: 443.84\n",
      "INFO:tensorflow:step = 3001, loss = 1.21464e+11 (0.226 sec)\n",
      "INFO:tensorflow:global_step/sec: 424.042\n",
      "INFO:tensorflow:step = 3101, loss = 1.07349e+11 (0.239 sec)\n",
      "INFO:tensorflow:global_step/sec: 450.493\n",
      "INFO:tensorflow:step = 3201, loss = 1.07797e+11 (0.223 sec)\n",
      "INFO:tensorflow:global_step/sec: 432.514\n",
      "INFO:tensorflow:step = 3301, loss = 6.10979e+10 (0.227 sec)\n",
      "INFO:tensorflow:global_step/sec: 440.213\n",
      "INFO:tensorflow:step = 3401, loss = 1.47667e+11 (0.236 sec)\n",
      "INFO:tensorflow:global_step/sec: 409.051\n",
      "INFO:tensorflow:step = 3501, loss = 1.01752e+11 (0.239 sec)\n",
      "INFO:tensorflow:global_step/sec: 429.508\n",
      "INFO:tensorflow:step = 3601, loss = 1.10118e+11 (0.229 sec)\n",
      "INFO:tensorflow:global_step/sec: 446.844\n",
      "INFO:tensorflow:step = 3701, loss = 1.31771e+11 (0.229 sec)\n",
      "INFO:tensorflow:global_step/sec: 452.79\n",
      "INFO:tensorflow:step = 3801, loss = 6.88116e+10 (0.223 sec)\n",
      "INFO:tensorflow:global_step/sec: 453.539\n",
      "INFO:tensorflow:step = 3901, loss = 9.63361e+10 (0.214 sec)\n",
      "INFO:tensorflow:global_step/sec: 419.894\n",
      "INFO:tensorflow:step = 4001, loss = 2.08124e+11 (0.238 sec)\n",
      "INFO:tensorflow:global_step/sec: 475.389\n",
      "INFO:tensorflow:step = 4101, loss = 1.19227e+11 (0.214 sec)\n",
      "INFO:tensorflow:global_step/sec: 439.779\n",
      "INFO:tensorflow:step = 4201, loss = 9.61588e+10 (0.225 sec)\n",
      "INFO:tensorflow:global_step/sec: 428.979\n",
      "INFO:tensorflow:step = 4301, loss = 5.86152e+10 (0.232 sec)\n",
      "INFO:tensorflow:global_step/sec: 474.436\n",
      "INFO:tensorflow:step = 4401, loss = 6.41949e+10 (0.212 sec)\n",
      "INFO:tensorflow:global_step/sec: 486.503\n",
      "INFO:tensorflow:step = 4501, loss = 1.24352e+11 (0.214 sec)\n",
      "INFO:tensorflow:global_step/sec: 432.727\n",
      "INFO:tensorflow:step = 4601, loss = 8.931e+10 (0.227 sec)\n",
      "INFO:tensorflow:global_step/sec: 523.852\n",
      "INFO:tensorflow:step = 4701, loss = 3.81217e+10 (0.186 sec)\n",
      "INFO:tensorflow:global_step/sec: 479.561\n",
      "INFO:tensorflow:step = 4801, loss = 1.07079e+11 (0.213 sec)\n",
      "INFO:tensorflow:global_step/sec: 435.804\n",
      "INFO:tensorflow:step = 4901, loss = 3.85245e+10 (0.225 sec)\n",
      "INFO:tensorflow:global_step/sec: 451.589\n",
      "INFO:tensorflow:step = 5001, loss = 1.1353e+11 (0.222 sec)\n",
      "INFO:tensorflow:global_step/sec: 448.063\n",
      "INFO:tensorflow:step = 5101, loss = 5.08037e+10 (0.224 sec)\n",
      "INFO:tensorflow:global_step/sec: 438.54\n",
      "INFO:tensorflow:step = 5201, loss = 4.41894e+10 (0.230 sec)\n",
      "INFO:tensorflow:global_step/sec: 459.393\n",
      "INFO:tensorflow:step = 5301, loss = 5.39221e+10 (0.218 sec)\n",
      "INFO:tensorflow:global_step/sec: 426.805\n",
      "INFO:tensorflow:step = 5401, loss = 9.01559e+10 (0.230 sec)\n",
      "INFO:tensorflow:global_step/sec: 451.73\n",
      "INFO:tensorflow:step = 5501, loss = 9.74061e+10 (0.222 sec)\n",
      "INFO:tensorflow:global_step/sec: 443.396\n",
      "INFO:tensorflow:step = 5601, loss = 6.58989e+10 (0.226 sec)\n",
      "INFO:tensorflow:global_step/sec: 435.384\n",
      "INFO:tensorflow:step = 5701, loss = 8.84838e+10 (0.233 sec)\n",
      "INFO:tensorflow:global_step/sec: 432.528\n",
      "INFO:tensorflow:step = 5801, loss = 1.54104e+11 (0.231 sec)\n",
      "INFO:tensorflow:global_step/sec: 424.648\n",
      "INFO:tensorflow:step = 5901, loss = 8.94781e+10 (0.231 sec)\n",
      "INFO:tensorflow:global_step/sec: 431.288\n",
      "INFO:tensorflow:step = 6001, loss = 4.30184e+10 (0.232 sec)\n",
      "INFO:tensorflow:global_step/sec: 461.863\n",
      "INFO:tensorflow:step = 6101, loss = 6.59242e+10 (0.221 sec)\n",
      "INFO:tensorflow:global_step/sec: 443.093\n",
      "INFO:tensorflow:step = 6201, loss = 6.45414e+10 (0.221 sec)\n",
      "INFO:tensorflow:global_step/sec: 444.04\n",
      "INFO:tensorflow:step = 6301, loss = 1.62461e+11 (0.224 sec)\n",
      "INFO:tensorflow:global_step/sec: 476.807\n",
      "INFO:tensorflow:step = 6401, loss = 1.34596e+11 (0.212 sec)\n",
      "INFO:tensorflow:global_step/sec: 459.243\n",
      "INFO:tensorflow:step = 6501, loss = 1.05205e+11 (0.218 sec)\n",
      "INFO:tensorflow:global_step/sec: 448.332\n",
      "INFO:tensorflow:step = 6601, loss = 1.38711e+11 (0.218 sec)\n",
      "INFO:tensorflow:global_step/sec: 453.382\n",
      "INFO:tensorflow:step = 6701, loss = 3.99952e+10 (0.224 sec)\n",
      "INFO:tensorflow:global_step/sec: 452.458\n",
      "INFO:tensorflow:step = 6801, loss = 7.1315e+10 (0.222 sec)\n",
      "INFO:tensorflow:global_step/sec: 466.139\n",
      "INFO:tensorflow:step = 6901, loss = 1.77086e+11 (0.214 sec)\n",
      "INFO:tensorflow:global_step/sec: 443.246\n",
      "INFO:tensorflow:step = 7001, loss = 8.35271e+10 (0.234 sec)\n",
      "INFO:tensorflow:global_step/sec: 432.552\n",
      "INFO:tensorflow:step = 7101, loss = 4.7571e+10 (0.223 sec)\n",
      "INFO:tensorflow:global_step/sec: 470.313\n",
      "INFO:tensorflow:step = 7201, loss = 5.61711e+10 (0.213 sec)\n",
      "INFO:tensorflow:global_step/sec: 440.064\n",
      "INFO:tensorflow:step = 7301, loss = 1.16134e+11 (0.231 sec)\n",
      "INFO:tensorflow:global_step/sec: 471.44\n",
      "INFO:tensorflow:step = 7401, loss = 6.6542e+10 (0.213 sec)\n",
      "INFO:tensorflow:global_step/sec: 447.059\n",
      "INFO:tensorflow:step = 7501, loss = 4.10389e+10 (0.220 sec)\n",
      "INFO:tensorflow:global_step/sec: 466.98\n",
      "INFO:tensorflow:step = 7601, loss = 6.06639e+10 (0.214 sec)\n",
      "INFO:tensorflow:global_step/sec: 435.228\n",
      "INFO:tensorflow:step = 7701, loss = 3.65652e+10 (0.230 sec)\n",
      "INFO:tensorflow:global_step/sec: 465.229\n",
      "INFO:tensorflow:step = 7801, loss = 1.00657e+11 (0.213 sec)\n",
      "INFO:tensorflow:global_step/sec: 434.166\n",
      "INFO:tensorflow:step = 7901, loss = 6.06378e+10 (0.235 sec)\n",
      "INFO:tensorflow:global_step/sec: 440.888\n",
      "INFO:tensorflow:step = 8001, loss = 4.44819e+10 (0.226 sec)\n",
      "INFO:tensorflow:global_step/sec: 430.03\n",
      "INFO:tensorflow:step = 8101, loss = 1.30883e+11 (0.231 sec)\n",
      "INFO:tensorflow:global_step/sec: 426.005\n",
      "INFO:tensorflow:step = 8201, loss = 5.25709e+10 (0.234 sec)\n",
      "INFO:tensorflow:global_step/sec: 432.156\n",
      "INFO:tensorflow:step = 8301, loss = 7.28684e+10 (0.237 sec)\n",
      "INFO:tensorflow:global_step/sec: 422.694\n",
      "INFO:tensorflow:step = 8401, loss = 5.4986e+10 (0.235 sec)\n",
      "INFO:tensorflow:global_step/sec: 438.578\n",
      "INFO:tensorflow:step = 8501, loss = 3.50808e+10 (0.221 sec)\n",
      "INFO:tensorflow:global_step/sec: 470.452\n",
      "INFO:tensorflow:step = 8601, loss = 1.46557e+11 (0.220 sec)\n",
      "INFO:tensorflow:global_step/sec: 423.791\n",
      "INFO:tensorflow:step = 8701, loss = 4.94472e+10 (0.232 sec)\n",
      "INFO:tensorflow:global_step/sec: 454.943\n",
      "INFO:tensorflow:step = 8801, loss = 1.45196e+11 (0.224 sec)\n",
      "INFO:tensorflow:global_step/sec: 451.015\n"
     ]
    },
    {
     "name": "stdout",
     "output_type": "stream",
     "text": [
      "INFO:tensorflow:step = 8901, loss = 6.41611e+10 (0.222 sec)\n",
      "INFO:tensorflow:global_step/sec: 432.382\n",
      "INFO:tensorflow:step = 9001, loss = 9.88495e+10 (0.232 sec)\n",
      "INFO:tensorflow:global_step/sec: 414.194\n",
      "INFO:tensorflow:step = 9101, loss = 9.94798e+10 (0.238 sec)\n",
      "INFO:tensorflow:global_step/sec: 410.815\n",
      "INFO:tensorflow:step = 9201, loss = 1.16101e+11 (0.246 sec)\n",
      "INFO:tensorflow:global_step/sec: 390.479\n",
      "INFO:tensorflow:step = 9301, loss = 6.63882e+10 (0.250 sec)\n",
      "INFO:tensorflow:global_step/sec: 399.449\n",
      "INFO:tensorflow:step = 9401, loss = 1.21386e+11 (0.250 sec)\n",
      "INFO:tensorflow:global_step/sec: 396.443\n",
      "INFO:tensorflow:step = 9501, loss = 9.55927e+10 (0.256 sec)\n",
      "INFO:tensorflow:global_step/sec: 442.235\n",
      "INFO:tensorflow:step = 9601, loss = 1.02383e+11 (0.229 sec)\n",
      "INFO:tensorflow:global_step/sec: 396.823\n",
      "INFO:tensorflow:step = 9701, loss = 2.62001e+10 (0.249 sec)\n",
      "INFO:tensorflow:global_step/sec: 411.085\n",
      "INFO:tensorflow:step = 9801, loss = 3.86436e+10 (0.242 sec)\n",
      "INFO:tensorflow:global_step/sec: 427.86\n",
      "INFO:tensorflow:step = 9901, loss = 1.21134e+11 (0.238 sec)\n",
      "INFO:tensorflow:global_step/sec: 446.434\n",
      "INFO:tensorflow:step = 10001, loss = 6.56793e+10 (0.220 sec)\n",
      "INFO:tensorflow:global_step/sec: 432.97\n",
      "INFO:tensorflow:step = 10101, loss = 1.51982e+11 (0.233 sec)\n",
      "INFO:tensorflow:global_step/sec: 421.848\n",
      "INFO:tensorflow:step = 10201, loss = 9.20201e+10 (0.239 sec)\n",
      "INFO:tensorflow:global_step/sec: 423.525\n",
      "INFO:tensorflow:step = 10301, loss = 1.236e+11 (0.236 sec)\n",
      "INFO:tensorflow:global_step/sec: 423.193\n",
      "INFO:tensorflow:step = 10401, loss = 1.18913e+11 (0.236 sec)\n",
      "INFO:tensorflow:global_step/sec: 408.066\n",
      "INFO:tensorflow:step = 10501, loss = 9.43648e+10 (0.242 sec)\n",
      "INFO:tensorflow:global_step/sec: 413.019\n",
      "INFO:tensorflow:step = 10601, loss = 2.13034e+10 (0.242 sec)\n",
      "INFO:tensorflow:global_step/sec: 406.217\n",
      "INFO:tensorflow:step = 10701, loss = 8.18636e+10 (0.248 sec)\n",
      "INFO:tensorflow:global_step/sec: 400.013\n",
      "INFO:tensorflow:step = 10801, loss = 7.59014e+10 (0.248 sec)\n",
      "INFO:tensorflow:global_step/sec: 399.351\n",
      "INFO:tensorflow:step = 10901, loss = 1.21328e+11 (0.250 sec)\n",
      "INFO:tensorflow:global_step/sec: 394.863\n",
      "INFO:tensorflow:step = 11001, loss = 1.39524e+11 (0.253 sec)\n",
      "INFO:tensorflow:global_step/sec: 385.482\n",
      "INFO:tensorflow:step = 11101, loss = 8.76429e+10 (0.263 sec)\n",
      "INFO:tensorflow:global_step/sec: 401.031\n",
      "INFO:tensorflow:step = 11201, loss = 2.04328e+11 (0.246 sec)\n",
      "INFO:tensorflow:global_step/sec: 431.405\n",
      "INFO:tensorflow:step = 11301, loss = 1.01071e+11 (0.233 sec)\n",
      "INFO:tensorflow:global_step/sec: 404.965\n",
      "INFO:tensorflow:step = 11401, loss = 3.1139e+10 (0.246 sec)\n",
      "INFO:tensorflow:global_step/sec: 422.235\n",
      "INFO:tensorflow:step = 11501, loss = 8.53893e+10 (0.236 sec)\n",
      "INFO:tensorflow:global_step/sec: 414.484\n",
      "INFO:tensorflow:step = 11601, loss = 5.54192e+10 (0.242 sec)\n",
      "INFO:tensorflow:global_step/sec: 433.022\n",
      "INFO:tensorflow:step = 11701, loss = 1.05843e+11 (0.230 sec)\n",
      "INFO:tensorflow:global_step/sec: 407.674\n",
      "INFO:tensorflow:step = 11801, loss = 5.31455e+10 (0.243 sec)\n",
      "INFO:tensorflow:global_step/sec: 413.406\n",
      "INFO:tensorflow:step = 11901, loss = 1.20679e+11 (0.245 sec)\n",
      "INFO:tensorflow:global_step/sec: 429.259\n",
      "INFO:tensorflow:step = 12001, loss = 7.46428e+10 (0.233 sec)\n",
      "INFO:tensorflow:global_step/sec: 445.142\n",
      "INFO:tensorflow:step = 12101, loss = 8.86334e+10 (0.225 sec)\n",
      "INFO:tensorflow:global_step/sec: 429.365\n",
      "INFO:tensorflow:step = 12201, loss = 1.2899e+11 (0.233 sec)\n",
      "INFO:tensorflow:global_step/sec: 411.452\n",
      "INFO:tensorflow:step = 12301, loss = 9.02223e+10 (0.240 sec)\n",
      "INFO:tensorflow:global_step/sec: 418.185\n",
      "INFO:tensorflow:step = 12401, loss = 1.09215e+11 (0.240 sec)\n",
      "INFO:tensorflow:global_step/sec: 435.678\n",
      "INFO:tensorflow:step = 12501, loss = 7.0367e+10 (0.233 sec)\n",
      "INFO:tensorflow:global_step/sec: 443.523\n",
      "INFO:tensorflow:step = 12601, loss = 5.48584e+10 (0.228 sec)\n",
      "INFO:tensorflow:global_step/sec: 442.744\n",
      "INFO:tensorflow:step = 12701, loss = 6.11096e+10 (0.224 sec)\n",
      "INFO:tensorflow:global_step/sec: 442.02\n",
      "INFO:tensorflow:step = 12801, loss = 7.95516e+10 (0.226 sec)\n",
      "INFO:tensorflow:global_step/sec: 418.205\n",
      "INFO:tensorflow:step = 12901, loss = 1.13953e+11 (0.238 sec)\n",
      "INFO:tensorflow:global_step/sec: 420.233\n",
      "INFO:tensorflow:step = 13001, loss = 7.99767e+10 (0.236 sec)\n",
      "INFO:tensorflow:global_step/sec: 435.986\n",
      "INFO:tensorflow:step = 13101, loss = 1.69231e+11 (0.232 sec)\n",
      "INFO:tensorflow:global_step/sec: 408.955\n",
      "INFO:tensorflow:step = 13201, loss = 5.51923e+10 (0.247 sec)\n",
      "INFO:tensorflow:global_step/sec: 440.465\n",
      "INFO:tensorflow:step = 13301, loss = 4.89709e+10 (0.227 sec)\n",
      "INFO:tensorflow:global_step/sec: 442.029\n",
      "INFO:tensorflow:step = 13401, loss = 1.25232e+11 (0.225 sec)\n",
      "INFO:tensorflow:global_step/sec: 408.18\n",
      "INFO:tensorflow:step = 13501, loss = 2.17803e+10 (0.242 sec)\n",
      "INFO:tensorflow:global_step/sec: 418.971\n",
      "INFO:tensorflow:step = 13601, loss = 1.01865e+11 (0.240 sec)\n",
      "INFO:tensorflow:global_step/sec: 514.579\n",
      "INFO:tensorflow:step = 13701, loss = 9.0911e+10 (0.193 sec)\n",
      "INFO:tensorflow:global_step/sec: 453.563\n",
      "INFO:tensorflow:step = 13801, loss = 7.9196e+10 (0.220 sec)\n",
      "INFO:tensorflow:global_step/sec: 460.127\n",
      "INFO:tensorflow:step = 13901, loss = 1.22166e+11 (0.219 sec)\n",
      "INFO:tensorflow:global_step/sec: 422.012\n",
      "INFO:tensorflow:step = 14001, loss = 6.56445e+10 (0.236 sec)\n",
      "INFO:tensorflow:global_step/sec: 472.061\n",
      "INFO:tensorflow:step = 14101, loss = 6.4108e+10 (0.212 sec)\n",
      "INFO:tensorflow:global_step/sec: 394.406\n",
      "INFO:tensorflow:step = 14201, loss = 4.39802e+10 (0.255 sec)\n",
      "INFO:tensorflow:global_step/sec: 459.843\n",
      "INFO:tensorflow:step = 14301, loss = 8.18216e+10 (0.218 sec)\n",
      "INFO:tensorflow:global_step/sec: 450.749\n",
      "INFO:tensorflow:step = 14401, loss = 1.37582e+11 (0.222 sec)\n",
      "INFO:tensorflow:global_step/sec: 454.478\n",
      "INFO:tensorflow:step = 14501, loss = 2.20511e+11 (0.222 sec)\n",
      "INFO:tensorflow:global_step/sec: 443.388\n",
      "INFO:tensorflow:step = 14601, loss = 9.17055e+10 (0.226 sec)\n",
      "INFO:tensorflow:global_step/sec: 437.885\n",
      "INFO:tensorflow:step = 14701, loss = 5.72687e+10 (0.226 sec)\n",
      "INFO:tensorflow:global_step/sec: 413.318\n",
      "INFO:tensorflow:step = 14801, loss = 8.39936e+10 (0.240 sec)\n",
      "INFO:tensorflow:global_step/sec: 423.139\n",
      "INFO:tensorflow:step = 14901, loss = 8.11875e+10 (0.236 sec)\n",
      "INFO:tensorflow:global_step/sec: 426.824\n",
      "INFO:tensorflow:step = 15001, loss = 8.13899e+10 (0.238 sec)\n",
      "INFO:tensorflow:global_step/sec: 450.52\n",
      "INFO:tensorflow:step = 15101, loss = 1.8533e+10 (0.220 sec)\n",
      "INFO:tensorflow:global_step/sec: 473.658\n",
      "INFO:tensorflow:step = 15201, loss = 9.98093e+10 (0.213 sec)\n",
      "INFO:tensorflow:global_step/sec: 476.763\n",
      "INFO:tensorflow:step = 15301, loss = 1.40926e+11 (0.208 sec)\n",
      "INFO:tensorflow:global_step/sec: 488.958\n",
      "INFO:tensorflow:step = 15401, loss = 3.90676e+10 (0.211 sec)\n",
      "INFO:tensorflow:global_step/sec: 390.906\n",
      "INFO:tensorflow:step = 15501, loss = 1.47034e+11 (0.247 sec)\n",
      "INFO:tensorflow:global_step/sec: 411.987\n",
      "INFO:tensorflow:step = 15601, loss = 9.4998e+10 (0.243 sec)\n",
      "INFO:tensorflow:global_step/sec: 434.304\n",
      "INFO:tensorflow:step = 15701, loss = 1.05233e+11 (0.229 sec)\n",
      "INFO:tensorflow:global_step/sec: 442.352\n",
      "INFO:tensorflow:step = 15801, loss = 4.86016e+10 (0.231 sec)\n",
      "INFO:tensorflow:global_step/sec: 425.409\n",
      "INFO:tensorflow:step = 15901, loss = 6.76289e+10 (0.232 sec)\n",
      "INFO:tensorflow:global_step/sec: 444.254\n",
      "INFO:tensorflow:step = 16001, loss = 1.64547e+11 (0.224 sec)\n",
      "INFO:tensorflow:global_step/sec: 452.327\n",
      "INFO:tensorflow:step = 16101, loss = 1.44764e+11 (0.221 sec)\n",
      "INFO:tensorflow:global_step/sec: 457.698\n",
      "INFO:tensorflow:step = 16201, loss = 8.08316e+10 (0.222 sec)\n",
      "INFO:tensorflow:global_step/sec: 436.839\n",
      "INFO:tensorflow:step = 16301, loss = 5.71988e+10 (0.225 sec)\n",
      "INFO:tensorflow:global_step/sec: 407.444\n",
      "INFO:tensorflow:step = 16401, loss = 9.71555e+10 (0.245 sec)\n",
      "INFO:tensorflow:global_step/sec: 457.367\n",
      "INFO:tensorflow:step = 16501, loss = 1.00086e+11 (0.224 sec)\n",
      "INFO:tensorflow:global_step/sec: 417.595\n",
      "INFO:tensorflow:step = 16601, loss = 1.64377e+11 (0.234 sec)\n",
      "INFO:tensorflow:global_step/sec: 424.981\n",
      "INFO:tensorflow:step = 16701, loss = 5.39931e+10 (0.236 sec)\n",
      "INFO:tensorflow:global_step/sec: 452.17\n",
      "INFO:tensorflow:step = 16801, loss = 1.30295e+11 (0.221 sec)\n",
      "INFO:tensorflow:global_step/sec: 436.14\n",
      "INFO:tensorflow:step = 16901, loss = 2.15174e+11 (0.232 sec)\n"
     ]
    },
    {
     "name": "stdout",
     "output_type": "stream",
     "text": [
      "INFO:tensorflow:global_step/sec: 444.084\n",
      "INFO:tensorflow:step = 17001, loss = 3.99903e+10 (0.226 sec)\n",
      "INFO:tensorflow:global_step/sec: 398.302\n",
      "INFO:tensorflow:step = 17101, loss = 6.4418e+10 (0.247 sec)\n",
      "INFO:tensorflow:global_step/sec: 403.335\n",
      "INFO:tensorflow:step = 17201, loss = 4.03872e+10 (0.249 sec)\n",
      "INFO:tensorflow:global_step/sec: 403.504\n",
      "INFO:tensorflow:step = 17301, loss = 4.20179e+10 (0.248 sec)\n",
      "INFO:tensorflow:global_step/sec: 409.347\n",
      "INFO:tensorflow:step = 17401, loss = 1.48835e+11 (0.243 sec)\n",
      "INFO:tensorflow:global_step/sec: 416.333\n",
      "INFO:tensorflow:step = 17501, loss = 4.06189e+10 (0.242 sec)\n",
      "INFO:tensorflow:global_step/sec: 392.252\n",
      "INFO:tensorflow:step = 17601, loss = 1.02029e+11 (0.253 sec)\n",
      "INFO:tensorflow:global_step/sec: 416.659\n",
      "INFO:tensorflow:step = 17701, loss = 1.49734e+11 (0.242 sec)\n",
      "INFO:tensorflow:global_step/sec: 393.198\n",
      "INFO:tensorflow:step = 17801, loss = 5.42126e+10 (0.250 sec)\n",
      "INFO:tensorflow:global_step/sec: 410.035\n",
      "INFO:tensorflow:step = 17901, loss = 1.27249e+11 (0.246 sec)\n",
      "INFO:tensorflow:global_step/sec: 423.102\n",
      "INFO:tensorflow:step = 18001, loss = 2.05833e+10 (0.240 sec)\n",
      "INFO:tensorflow:global_step/sec: 409.807\n",
      "INFO:tensorflow:step = 18101, loss = 1.02909e+11 (0.248 sec)\n",
      "INFO:tensorflow:global_step/sec: 408.782\n",
      "INFO:tensorflow:step = 18201, loss = 1.33377e+11 (0.240 sec)\n",
      "INFO:tensorflow:global_step/sec: 405.658\n",
      "INFO:tensorflow:step = 18301, loss = 1.41694e+11 (0.244 sec)\n",
      "INFO:tensorflow:global_step/sec: 421.638\n",
      "INFO:tensorflow:step = 18401, loss = 9.73912e+10 (0.240 sec)\n",
      "INFO:tensorflow:global_step/sec: 414.728\n",
      "INFO:tensorflow:step = 18501, loss = 1.45298e+11 (0.242 sec)\n",
      "INFO:tensorflow:global_step/sec: 406.051\n",
      "INFO:tensorflow:step = 18601, loss = 8.28402e+10 (0.246 sec)\n",
      "INFO:tensorflow:global_step/sec: 387.25\n",
      "INFO:tensorflow:step = 18701, loss = 1.01829e+11 (0.254 sec)\n",
      "INFO:tensorflow:global_step/sec: 428.454\n",
      "INFO:tensorflow:step = 18801, loss = 1.14955e+11 (0.237 sec)\n",
      "INFO:tensorflow:global_step/sec: 387.773\n",
      "INFO:tensorflow:step = 18901, loss = 1.62819e+11 (0.255 sec)\n",
      "INFO:tensorflow:global_step/sec: 418.376\n",
      "INFO:tensorflow:step = 19001, loss = 1.24123e+11 (0.238 sec)\n",
      "INFO:tensorflow:global_step/sec: 408.363\n",
      "INFO:tensorflow:step = 19101, loss = 1.7966e+11 (0.245 sec)\n",
      "INFO:tensorflow:global_step/sec: 407.423\n",
      "INFO:tensorflow:step = 19201, loss = 5.42725e+10 (0.250 sec)\n",
      "INFO:tensorflow:global_step/sec: 419.598\n",
      "INFO:tensorflow:step = 19301, loss = 9.38783e+10 (0.230 sec)\n",
      "INFO:tensorflow:global_step/sec: 446.922\n",
      "INFO:tensorflow:step = 19401, loss = 4.1136e+10 (0.228 sec)\n",
      "INFO:tensorflow:global_step/sec: 433.563\n",
      "INFO:tensorflow:step = 19501, loss = 1.31861e+11 (0.238 sec)\n",
      "INFO:tensorflow:global_step/sec: 392.495\n",
      "INFO:tensorflow:step = 19601, loss = 1.27624e+11 (0.248 sec)\n",
      "INFO:tensorflow:global_step/sec: 410.063\n",
      "INFO:tensorflow:step = 19701, loss = 1.07723e+11 (0.244 sec)\n",
      "INFO:tensorflow:global_step/sec: 422.707\n",
      "INFO:tensorflow:step = 19801, loss = 6.89891e+10 (0.238 sec)\n",
      "INFO:tensorflow:global_step/sec: 387.711\n",
      "INFO:tensorflow:step = 19901, loss = 7.59059e+10 (0.257 sec)\n",
      "INFO:tensorflow:global_step/sec: 408.041\n",
      "INFO:tensorflow:step = 20001, loss = 6.51127e+10 (0.245 sec)\n",
      "INFO:tensorflow:global_step/sec: 417.67\n",
      "INFO:tensorflow:step = 20101, loss = 5.22842e+10 (0.240 sec)\n",
      "INFO:tensorflow:global_step/sec: 436.018\n",
      "INFO:tensorflow:step = 20201, loss = 7.38158e+10 (0.230 sec)\n",
      "INFO:tensorflow:global_step/sec: 428.209\n",
      "INFO:tensorflow:step = 20301, loss = 1.06151e+11 (0.236 sec)\n",
      "INFO:tensorflow:global_step/sec: 408.368\n",
      "INFO:tensorflow:step = 20401, loss = 3.8256e+10 (0.242 sec)\n",
      "INFO:tensorflow:global_step/sec: 401.066\n",
      "INFO:tensorflow:step = 20501, loss = 1.31993e+11 (0.248 sec)\n",
      "INFO:tensorflow:global_step/sec: 402.287\n",
      "INFO:tensorflow:step = 20601, loss = 1.07423e+11 (0.249 sec)\n",
      "INFO:tensorflow:global_step/sec: 401.3\n",
      "INFO:tensorflow:step = 20701, loss = 9.08562e+10 (0.249 sec)\n",
      "INFO:tensorflow:global_step/sec: 407.271\n",
      "INFO:tensorflow:step = 20801, loss = 5.49451e+10 (0.250 sec)\n",
      "INFO:tensorflow:global_step/sec: 428.203\n",
      "INFO:tensorflow:step = 20901, loss = 5.21387e+10 (0.234 sec)\n",
      "INFO:tensorflow:global_step/sec: 401.402\n",
      "INFO:tensorflow:step = 21001, loss = 6.14022e+10 (0.249 sec)\n",
      "INFO:tensorflow:global_step/sec: 421.561\n",
      "INFO:tensorflow:step = 21101, loss = 1.08847e+11 (0.237 sec)\n",
      "INFO:tensorflow:global_step/sec: 396.539\n",
      "INFO:tensorflow:step = 21201, loss = 9.47696e+10 (0.249 sec)\n",
      "INFO:tensorflow:global_step/sec: 396.514\n",
      "INFO:tensorflow:step = 21301, loss = 3.52805e+10 (0.252 sec)\n",
      "INFO:tensorflow:global_step/sec: 468.718\n",
      "INFO:tensorflow:step = 21401, loss = 1.43313e+11 (0.215 sec)\n",
      "INFO:tensorflow:global_step/sec: 425.024\n",
      "INFO:tensorflow:step = 21501, loss = 1.04795e+11 (0.232 sec)\n",
      "INFO:tensorflow:global_step/sec: 442.113\n",
      "INFO:tensorflow:step = 21601, loss = 6.47179e+10 (0.226 sec)\n",
      "INFO:tensorflow:global_step/sec: 453.132\n",
      "INFO:tensorflow:step = 21701, loss = 6.27802e+10 (0.224 sec)\n",
      "INFO:tensorflow:global_step/sec: 436.333\n",
      "INFO:tensorflow:step = 21801, loss = 1.52172e+11 (0.226 sec)\n",
      "INFO:tensorflow:global_step/sec: 449.782\n",
      "INFO:tensorflow:step = 21901, loss = 7.00015e+10 (0.224 sec)\n",
      "INFO:tensorflow:global_step/sec: 413.507\n",
      "INFO:tensorflow:step = 22001, loss = 9.0077e+10 (0.240 sec)\n",
      "INFO:tensorflow:global_step/sec: 416.753\n",
      "INFO:tensorflow:step = 22101, loss = 9.18279e+10 (0.245 sec)\n",
      "INFO:tensorflow:global_step/sec: 395.356\n",
      "INFO:tensorflow:step = 22201, loss = 1.61782e+11 (0.252 sec)\n",
      "INFO:tensorflow:global_step/sec: 418.599\n",
      "INFO:tensorflow:step = 22301, loss = 2.06518e+11 (0.239 sec)\n",
      "INFO:tensorflow:global_step/sec: 417.972\n",
      "INFO:tensorflow:step = 22401, loss = 7.92537e+10 (0.239 sec)\n",
      "INFO:tensorflow:global_step/sec: 433.342\n",
      "INFO:tensorflow:step = 22501, loss = 9.14156e+10 (0.232 sec)\n",
      "INFO:tensorflow:global_step/sec: 444.736\n",
      "INFO:tensorflow:step = 22601, loss = 4.04505e+10 (0.224 sec)\n",
      "INFO:tensorflow:global_step/sec: 425.707\n",
      "INFO:tensorflow:step = 22701, loss = 3.44618e+10 (0.231 sec)\n",
      "INFO:tensorflow:global_step/sec: 428.761\n",
      "INFO:tensorflow:step = 22801, loss = 1.40938e+11 (0.233 sec)\n",
      "INFO:tensorflow:global_step/sec: 438.488\n",
      "INFO:tensorflow:step = 22901, loss = 1.13883e+11 (0.229 sec)\n",
      "INFO:tensorflow:global_step/sec: 452.746\n",
      "INFO:tensorflow:step = 23001, loss = 5.09424e+10 (0.221 sec)\n",
      "INFO:tensorflow:global_step/sec: 424.693\n",
      "INFO:tensorflow:step = 23101, loss = 7.68736e+10 (0.238 sec)\n",
      "INFO:tensorflow:global_step/sec: 437.831\n",
      "INFO:tensorflow:step = 23201, loss = 1.02763e+10 (0.224 sec)\n",
      "INFO:tensorflow:global_step/sec: 448.627\n",
      "INFO:tensorflow:step = 23301, loss = 4.86267e+10 (0.224 sec)\n",
      "INFO:tensorflow:global_step/sec: 454.462\n",
      "INFO:tensorflow:step = 23401, loss = 1.15162e+11 (0.219 sec)\n",
      "INFO:tensorflow:global_step/sec: 468.786\n",
      "INFO:tensorflow:step = 23501, loss = 9.29512e+10 (0.217 sec)\n",
      "INFO:tensorflow:global_step/sec: 404.082\n",
      "INFO:tensorflow:step = 23601, loss = 1.55779e+11 (0.244 sec)\n",
      "INFO:tensorflow:global_step/sec: 424.234\n",
      "INFO:tensorflow:step = 23701, loss = 1.18469e+11 (0.240 sec)\n",
      "INFO:tensorflow:global_step/sec: 466.093\n",
      "INFO:tensorflow:step = 23801, loss = 5.79729e+10 (0.215 sec)\n",
      "INFO:tensorflow:global_step/sec: 475.064\n",
      "INFO:tensorflow:step = 23901, loss = 1.2968e+11 (0.211 sec)\n",
      "INFO:tensorflow:global_step/sec: 476.08\n",
      "INFO:tensorflow:step = 24001, loss = 9.37412e+10 (0.207 sec)\n",
      "INFO:tensorflow:global_step/sec: 438.095\n",
      "INFO:tensorflow:step = 24101, loss = 1.09357e+11 (0.227 sec)\n",
      "INFO:tensorflow:global_step/sec: 464.011\n",
      "INFO:tensorflow:step = 24201, loss = 1.12311e+11 (0.224 sec)\n",
      "INFO:tensorflow:global_step/sec: 466.271\n",
      "INFO:tensorflow:step = 24301, loss = 1.65735e+11 (0.213 sec)\n",
      "INFO:tensorflow:global_step/sec: 443.92\n",
      "INFO:tensorflow:step = 24401, loss = 1.51222e+11 (0.225 sec)\n",
      "INFO:tensorflow:global_step/sec: 411.792\n",
      "INFO:tensorflow:step = 24501, loss = 5.70024e+10 (0.238 sec)\n",
      "INFO:tensorflow:global_step/sec: 469.178\n",
      "INFO:tensorflow:step = 24601, loss = 1.32567e+11 (0.212 sec)\n",
      "INFO:tensorflow:global_step/sec: 444.253\n",
      "INFO:tensorflow:step = 24701, loss = 1.17586e+11 (0.228 sec)\n",
      "INFO:tensorflow:global_step/sec: 450.282\n",
      "INFO:tensorflow:step = 24801, loss = 7.56259e+10 (0.221 sec)\n",
      "INFO:tensorflow:global_step/sec: 435.13\n",
      "INFO:tensorflow:step = 24901, loss = 1.652e+11 (0.234 sec)\n",
      "INFO:tensorflow:global_step/sec: 438.507\n",
      "INFO:tensorflow:step = 25001, loss = 2.89233e+11 (0.228 sec)\n"
     ]
    },
    {
     "name": "stdout",
     "output_type": "stream",
     "text": [
      "INFO:tensorflow:global_step/sec: 445.91\n",
      "INFO:tensorflow:step = 25101, loss = 6.24566e+10 (0.221 sec)\n",
      "INFO:tensorflow:global_step/sec: 436.66\n",
      "INFO:tensorflow:step = 25201, loss = 1.08754e+11 (0.232 sec)\n",
      "INFO:tensorflow:global_step/sec: 398.487\n",
      "INFO:tensorflow:step = 25301, loss = 6.19023e+10 (0.247 sec)\n",
      "INFO:tensorflow:global_step/sec: 413.82\n",
      "INFO:tensorflow:step = 25401, loss = 4.04609e+10 (0.246 sec)\n",
      "INFO:tensorflow:global_step/sec: 369.813\n",
      "INFO:tensorflow:step = 25501, loss = 8.02094e+10 (0.266 sec)\n",
      "INFO:tensorflow:global_step/sec: 400.364\n",
      "INFO:tensorflow:step = 25601, loss = 6.6748e+10 (0.254 sec)\n",
      "INFO:tensorflow:global_step/sec: 407.861\n",
      "INFO:tensorflow:step = 25701, loss = 5.20187e+10 (0.242 sec)\n",
      "INFO:tensorflow:global_step/sec: 411.783\n",
      "INFO:tensorflow:step = 25801, loss = 9.26533e+10 (0.243 sec)\n",
      "INFO:tensorflow:global_step/sec: 409.622\n",
      "INFO:tensorflow:step = 25901, loss = 6.22725e+10 (0.248 sec)\n",
      "INFO:tensorflow:Saving checkpoints for 26000 into C:\\Users\\Surbhi\\AppData\\Local\\Temp\\tmpca_tpb35\\model.ckpt.\n",
      "INFO:tensorflow:Loss for final step: 8.36971e+10.\n"
     ]
    },
    {
     "data": {
      "text/plain": [
       "<tensorflow.python.estimator.canned.dnn.DNNRegressor at 0x2562222a0b8>"
      ]
     },
     "execution_count": 120,
     "metadata": {},
     "output_type": "execute_result"
    }
   ],
   "source": [
    "model.train(input_func,steps=25000)"
   ]
  },
  {
   "cell_type": "code",
   "execution_count": null,
   "metadata": {},
   "outputs": [],
   "source": []
  },
  {
   "cell_type": "markdown",
   "metadata": {},
   "source": [
    "** Create a prediction input function and then use the .predict method off your estimator model to create a list or predictions on your test data. **"
   ]
  },
  {
   "cell_type": "code",
   "execution_count": 121,
   "metadata": {},
   "outputs": [],
   "source": [
    "pred_input_func = tf.estimator.inputs.pandas_input_fn(X_test,batch_size=10,num_epochs=1,shuffle=False)"
   ]
  },
  {
   "cell_type": "code",
   "execution_count": 122,
   "metadata": {},
   "outputs": [
    {
     "name": "stdout",
     "output_type": "stream",
     "text": [
      "INFO:tensorflow:Restoring parameters from C:\\Users\\Surbhi\\AppData\\Local\\Temp\\tmpca_tpb35\\model.ckpt-26000\n"
     ]
    }
   ],
   "source": [
    "prediction = list(model.predict(pred_input_func))"
   ]
  },
  {
   "cell_type": "code",
   "execution_count": null,
   "metadata": {},
   "outputs": [],
   "source": []
  },
  {
   "cell_type": "markdown",
   "metadata": {},
   "source": [
    "** Calculate the RMSE **"
   ]
  },
  {
   "cell_type": "code",
   "execution_count": 123,
   "metadata": {},
   "outputs": [],
   "source": [
    "pred = []\n",
    "for each_pred in prediction:\n",
    "    pred.append(each_pred['predictions'])\n"
   ]
  },
  {
   "cell_type": "code",
   "execution_count": 124,
   "metadata": {
    "collapsed": true
   },
   "outputs": [],
   "source": [
    "from sklearn.metrics import mean_squared_error"
   ]
  },
  {
   "cell_type": "code",
   "execution_count": 125,
   "metadata": {},
   "outputs": [],
   "source": [
    "error = mean_squared_error(y_test,pred)**0.5"
   ]
  },
  {
   "cell_type": "code",
   "execution_count": 126,
   "metadata": {},
   "outputs": [
    {
     "data": {
      "text/plain": [
       "97652.299514246915"
      ]
     },
     "execution_count": 126,
     "metadata": {},
     "output_type": "execute_result"
    }
   ],
   "source": [
    "error"
   ]
  }
 ],
 "metadata": {
  "kernelspec": {
   "display_name": "Python 3",
   "language": "python",
   "name": "python3"
  },
  "language_info": {
   "codemirror_mode": {
    "name": "ipython",
    "version": 3
   },
   "file_extension": ".py",
   "mimetype": "text/x-python",
   "name": "python",
   "nbconvert_exporter": "python",
   "pygments_lexer": "ipython3",
   "version": "3.5.4"
  }
 },
 "nbformat": 4,
 "nbformat_minor": 2
}
